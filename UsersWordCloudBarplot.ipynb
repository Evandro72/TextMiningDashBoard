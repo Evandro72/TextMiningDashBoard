{
  "cells": [
    {
      "cell_type": "markdown",
      "metadata": {
        "id": "view-in-github",
        "colab_type": "text"
      },
      "source": [
        "<a href=\"https://colab.research.google.com/github/Evandro72/TextMiningDashBoard/blob/main/UsersWordCloudBarplot.ipynb\" target=\"_parent\"><img src=\"https://colab.research.google.com/assets/colab-badge.svg\" alt=\"Open In Colab\"/></a>"
      ]
    },
    {
      "cell_type": "code",
      "source": [
        "pip install langdetect"
      ],
      "metadata": {
        "colab": {
          "base_uri": "https://localhost:8080/"
        },
        "id": "GHom4pqdAACy",
        "outputId": "ca790c99-b568-4c6d-b216-6d70cd615804"
      },
      "id": "GHom4pqdAACy",
      "execution_count": 18,
      "outputs": [
        {
          "output_type": "stream",
          "name": "stdout",
          "text": [
            "Looking in indexes: https://pypi.org/simple, https://us-python.pkg.dev/colab-wheels/public/simple/\n",
            "Requirement already satisfied: langdetect in /usr/local/lib/python3.9/dist-packages (1.0.9)\n",
            "Requirement already satisfied: six in /usr/local/lib/python3.9/dist-packages (from langdetect) (1.16.0)\n"
          ]
        }
      ]
    },
    {
      "cell_type": "code",
      "source": [
        "pip install pycountry"
      ],
      "metadata": {
        "colab": {
          "base_uri": "https://localhost:8080/"
        },
        "id": "Ui9Mh61K__yY",
        "outputId": "1460c1c8-97bf-461b-8ae2-5629d78cb090"
      },
      "id": "Ui9Mh61K__yY",
      "execution_count": 19,
      "outputs": [
        {
          "output_type": "stream",
          "name": "stdout",
          "text": [
            "Looking in indexes: https://pypi.org/simple, https://us-python.pkg.dev/colab-wheels/public/simple/\n",
            "Requirement already satisfied: pycountry in /usr/local/lib/python3.9/dist-packages (22.3.5)\n",
            "Requirement already satisfied: setuptools in /usr/local/lib/python3.9/dist-packages (from pycountry) (67.6.0)\n"
          ]
        }
      ]
    },
    {
      "cell_type": "code",
      "execution_count": 20,
      "id": "d7bea3e0",
      "metadata": {
        "id": "d7bea3e0"
      },
      "outputs": [],
      "source": [
        "from PIL import Image\n",
        "import pandas as pd\n",
        "import numpy as np\n",
        "from wordcloud import WordCloud, STOPWORDS\n",
        "from langdetect import detect\n",
        "import random\n",
        "import pycountry"
      ]
    },
    {
      "cell_type": "code",
      "execution_count": 21,
      "id": "8bd669fc",
      "metadata": {
        "id": "8bd669fc"
      },
      "outputs": [],
      "source": [
        "# Creating Language Dict\n",
        "Languages = {}\n",
        "\n",
        "for lang in pycountry.languages:\n",
        "    try:\n",
        "        Languages[lang.alpha_2] = lang.name\n",
        "    except:\n",
        "        pass"
      ]
    },
    {
      "cell_type": "code",
      "execution_count": 22,
      "id": "cdf8b6f2",
      "metadata": {
        "id": "cdf8b6f2"
      },
      "outputs": [],
      "source": [
        "# Tweets were based on these Languages \n",
        "Unique_Lang_Code = ['it', 'da', 'zh-cn', 'en', 'lt', 'fr', 'sl', 'hu', 'sq', 'sv', 'uk', 'sk', 'ca', 'lv', 'af', 'th', 'no', 'fi', 'vi', 'de', 'cy', 'ja', 'nl', 'es', 'cs', 'ro', 'tl', 'pl', 'id', 'fa', 'ru', 'et', 'sw', 'tr', 'pt', 'el', 'so', 'hr']"
      ]
    },
    {
      "cell_type": "code",
      "execution_count": 23,
      "id": "5413ebac",
      "metadata": {
        "id": "5413ebac"
      },
      "outputs": [],
      "source": [
        "# Reading CSV File\n",
        "df = pd.read_csv('TweetsAccordiCleaned.csv')"
      ]
    },
    {
      "cell_type": "code",
      "execution_count": 24,
      "id": "0f11080f",
      "metadata": {
        "id": "0f11080f"
      },
      "outputs": [],
      "source": [
        "# Filtering Tweets on Language\n",
        "\n",
        "Text_Dict = {}\n",
        "\n",
        "for index, tweet in enumerate(df['Cleaned_Tweet']):\n",
        "    try:\n",
        "        languade_2code = detect(tweet)\n",
        "\n",
        "        if Languages[languade_2code] in Text_Dict.keys():\n",
        "            Text_Dict[Languages[languade_2code]].append(df.loc[index, 'Cleaned_Tweet'])\n",
        "        else:\n",
        "            Text_Dict[Languages[languade_2code]] = []\n",
        "            Text_Dict[Languages[languade_2code]].append(df.loc[index, 'Cleaned_Tweet'])\n",
        "\n",
        "    except:\n",
        "        if 'Unknown' in Text_Dict.keys():\n",
        "            Text_Dict['Unknown'] = []\n",
        "            Text_Dict['Unknown'].append(df.loc[index, 'Cleaned_Tweet'])\n"
      ]
    },
    {
      "cell_type": "code",
      "execution_count": 25,
      "id": "dea67e6e",
      "metadata": {
        "id": "dea67e6e"
      },
      "outputs": [],
      "source": [
        "# Sorting Dictionary \n",
        "import operator\n",
        "\n",
        "def sort_by_values_len(dict):\n",
        "    dict_len= {key: len(value) for key, value in dict.items()}\n",
        "    \n",
        "    sorted_key_list = sorted(dict_len.items(), key=operator.itemgetter(1), reverse=True)\n",
        "    sorted_dict = [{item[0]: dict[item [0]]} for item in sorted_key_list]\n",
        "    return sorted_dict\n",
        "\n",
        "Sorted_Text_Dict = sort_by_values_len(Text_Dict)[0]"
      ]
    },
    {
      "cell_type": "code",
      "execution_count": 28,
      "id": "08f1e574",
      "metadata": {
        "id": "08f1e574"
      },
      "outputs": [],
      "source": [
        "# Word Cloud Function\n",
        "def CreateWordCloud(Key, Text, WCBGColor, maxword):\n",
        "    # create numpy array for wordcloud mask image\n",
        "    mask = np.array(Image.open('cloud.png'))\n",
        "\n",
        "    # create wordcloud object\n",
        "    wc = WordCloud(background_color=WCBGColor, max_words=int(maxword), mask=mask)\n",
        "\n",
        "    # generate wordcloud\n",
        "    wc.generate(Text)\n",
        "\n",
        "    wc.to_image().save('Output/' + Key + '.png')"
      ]
    },
    {
      "cell_type": "code",
      "execution_count": 29,
      "id": "aa3b4508",
      "metadata": {
        "id": "aa3b4508"
      },
      "outputs": [],
      "source": [
        "# Creating Word Cloud for Each Language in Output Folder\n",
        "for key in list(Text_Dict.keys())[:10]:    \n",
        "    text = ' '.join(Text_Dict[key])\n",
        "    CreateWordCloud(key, text, 'white', 200)"
      ]
    },
    {
      "cell_type": "code",
      "execution_count": 30,
      "id": "7b797228",
      "metadata": {
        "id": "7b797228"
      },
      "outputs": [],
      "source": [
        "# User Word Cloud\n",
        "User_List = df['User'].tolist()\n",
        "CreateWordCloud('User', ' '.join(User_List), 'white', 200)"
      ]
    },
    {
      "cell_type": "code",
      "source": [
        "pd.set_option('display.max_rows', None)"
      ],
      "metadata": {
        "id": "gw9PTurr39wc"
      },
      "id": "gw9PTurr39wc",
      "execution_count": 31,
      "outputs": []
    },
    {
      "cell_type": "code",
      "source": [
        "df.User.str.split(expand=True).stack().value_counts()"
      ],
      "metadata": {
        "colab": {
          "base_uri": "https://localhost:8080/"
        },
        "id": "SRrPVJ_3vRHz",
        "outputId": "a2c548a7-7e81-44d0-e5de-e46df112b4ce"
      },
      "id": "SRrPVJ_3vRHz",
      "execution_count": 32,
      "outputs": [
        {
          "output_type": "execute_result",
          "data": {
            "text/plain": [
              "AccorDisaccordi    155\n",
              "amusart             16\n",
              "ParliamoDiNews      13\n",
              "andreacantelmo8      8\n",
              "DaizaWebradio        5\n",
              "Sabina1956           4\n",
              "alwaysred            3\n",
              "visioninmusica1      3\n",
              "AssJazzManouche      3\n",
              "Notiziabile_it       2\n",
              "cronachecampane      2\n",
              "jblasa               2\n",
              "evavola              2\n",
              "rosariopipolo        2\n",
              "CIDIMtweet           2\n",
              "salidaparallela      2\n",
              "Groovin2019          2\n",
              "BarbaraLPhilips      2\n",
              "APlenaLuz_           2\n",
              "la_zia_giada         2\n",
              "CulturSocialArt      2\n",
              "wollytavolazzi       1\n",
              "Raulvived            1\n",
              "savinovurchio        1\n",
              "umbriajournal_       1\n",
              "MoonSafari_RBE       1\n",
              "bukatova_anna        1\n",
              "CXTAgressor          1\n",
              "DanielaTrebbi        1\n",
              "ubifrieda            1\n",
              "robertoferrari       1\n",
              "adefrancesco67       1\n",
              "luigilarosa          1\n",
              "anomaleo             1\n",
              "iRobyZo              1\n",
              "GaudioBriccoMon      1\n",
              "monica__bruno        1\n",
              "RenatoTubere         1\n",
              "doppispazi           1\n",
              "SilviaMessina17      1\n",
              "SaveCampania         1\n",
              "Charliesonoio        1\n",
              "Parrini77            1\n",
              "unicafede_1926       1\n",
              "SilviaGalbiati       1\n",
              "VicJazzSociety       1\n",
              "dejaskitalica        1\n",
              "ByogaByou            1\n",
              "CristinaMeschia      1\n",
              "Mirtyeli             1\n",
              "dinoparente          1\n",
              "monica_gamba         1\n",
              "renatabolognesi      1\n",
              "giopassarelli        1\n",
              "biabici              1\n",
              "aranyans             1\n",
              "monirouge            1\n",
              "andreacarianni       1\n",
              "StephenReza          1\n",
              "JohannaWalser        1\n",
              "mk_tula              1\n",
              "Imperiapost          1\n",
              "MusicaDalPalco       1\n",
              "scapigliata          1\n",
              "RBcasting            1\n",
              "giallomarefilm       1\n",
              "gabrielbar74         1\n",
              "io_surf              1\n",
              "Mov5Stelle           1\n",
              "Puntoeblasta         1\n",
              "campanavalerio       1\n",
              "h24news_it           1\n",
              "ADeborahF            1\n",
              "CamilloReali         1\n",
              "mameli54             1\n",
              "carmenmalmassar      1\n",
              "DODO_from_roma       1\n",
              "massimo_bruni        1\n",
              "bixolino7            1\n",
              "nancydrew2016        1\n",
              "Matteo67             1\n",
              "OrtigiaP             1\n",
              "umbriaOn             1\n",
              "positanonews         1\n",
              "GuaiAiVinti          1\n",
              "laquilablog          1\n",
              "Reda2_0News          1\n",
              "dcjazzfest           1\n",
              "pcjazzclub           1\n",
              "MilestonePc          1\n",
              "circusnoirmusic      1\n",
              "tpgrfone             1\n",
              "iiclosangeles        1\n",
              "FixonMagazine        1\n",
              "SanremoAncheNoi      1\n",
              "Metropolitanwe1      1\n",
              "jazzconvention       1\n",
              "amacalabria          1\n",
              "borgobazziganta      1\n",
              "dangelo_luciana      1\n",
              "PiramideRossa        1\n",
              "UmbriaJazz_OFC       1\n",
              "aldostaccioli        1\n",
              "Ricochet6It          1\n",
              "DailySkateTube1      1\n",
              "NoleRulez7           1\n",
              "BorghiUmberto        1\n",
              "fnicodemo            1\n",
              "dtype: int64"
            ]
          },
          "metadata": {},
          "execution_count": 32
        }
      ]
    },
    {
      "cell_type": "code",
      "source": [
        "#number of tweets publishers\n",
        "xcount = df.User.str.split(expand=True).stack().value_counts()\n",
        "len(xcount.index)"
      ],
      "metadata": {
        "colab": {
          "base_uri": "https://localhost:8080/"
        },
        "id": "l6RcHDdyCskn",
        "outputId": "f862bb5d-1002-4fb1-f241-b6f68a247520"
      },
      "id": "l6RcHDdyCskn",
      "execution_count": 33,
      "outputs": [
        {
          "output_type": "execute_result",
          "data": {
            "text/plain": [
              "108"
            ]
          },
          "metadata": {},
          "execution_count": 33
        }
      ]
    },
    {
      "cell_type": "code",
      "execution_count": 34,
      "id": "a96bf113",
      "metadata": {
        "id": "a96bf113",
        "outputId": "20e6f246-07f6-49bc-8cf7-ffc975466887",
        "colab": {
          "base_uri": "https://localhost:8080/",
          "height": 376
        }
      },
      "outputs": [
        {
          "output_type": "display_data",
          "data": {
            "text/plain": [
              "<Figure size 720x360 with 1 Axes>"
            ],
            "image/png": "[encoded data removed]"
          },
          "metadata": {
            "needs_background": "light"
          }
        }
      ],
      "source": [
        "# Creating Bar Chart\n",
        "import numpy as np\n",
        "import matplotlib.pyplot as plt\n",
        "Lang = list(Text_Dict.keys())\n",
        "values = [len(item) for item in Text_Dict.values()]\n",
        "  \n",
        "fig = plt.figure(figsize = (10, 5))\n",
        " \n",
        "# creating the bar plot\n",
        "plt.bar(Lang, values, color ='red', width = 0.4)\n",
        "\n",
        "plt.xticks(rotation=45)\n",
        "plt.xlabel(\"Languages\")\n",
        "plt.ylabel(\"No.s of Tweets\")\n",
        "plt.title(\"Total Tweets in Different Languages\")\n",
        "plt.show()"
      ]
    },
    {
      "cell_type": "code",
      "execution_count": null,
      "id": "276de4d6",
      "metadata": {
        "id": "276de4d6"
      },
      "outputs": [],
      "source": []
    }
  ],
  "metadata": {
    "kernelspec": {
      "display_name": "Python 3 (ipykernel)",
      "language": "python",
      "name": "python3"
    },
    "language_info": {
      "codemirror_mode": {
        "name": "ipython",
        "version": 3
      },
      "file_extension": ".py",
      "mimetype": "text/x-python",
      "name": "python",
      "nbconvert_exporter": "python",
      "pygments_lexer": "ipython3",
      "version": "3.9.12"
    },
    "colab": {
      "provenance": [],
      "include_colab_link": true
    }
  },
  "nbformat": 4,
  "nbformat_minor": 5
}